{
  "cells": [
    {
      "cell_type": "markdown",
      "metadata": {
        "id": "view-in-github",
        "colab_type": "text"
      },
      "source": [
        "<a href=\"https://colab.research.google.com/github/beatrizcf2/MarketSentimentAnalyzer/blob/main/LimpezaDeDados.ipynb\" target=\"_parent\"><img src=\"https://colab.research.google.com/assets/colab-badge.svg\" alt=\"Open In Colab\"/></a>"
      ]
    },
    {
      "cell_type": "markdown",
      "metadata": {
        "id": "Ron7QB87Y6ux"
      },
      "source": [
        "# Entrega 1 - Extração e limpeza de dados"
      ]
    },
    {
      "cell_type": "markdown",
      "source": [
        "## Introdução\n",
        "\n",
        "Neste projeto, propomos uma solução para extrair notícias econômicas diretamente do site da Globo utilizando técnicas de web scraping. O **web scraping** é uma técnica poderosa que nos permite automatizar a coleta de dados de páginas da web, transformando o conteúdo estruturado em informações utilizáveis para análise.\n",
        "\n",
        "Ao extrair dados sistematicamente, podemos realizar uma análise em tempo real das principais tendências, eventos e análises que impactam os mercados financeiros e da economia de forma geral.\n",
        "\n",
        "\n",
        "\n"
      ],
      "metadata": {
        "id": "e4_C7AsT96BQ"
      }
    },
    {
      "cell_type": "markdown",
      "source": [
        "## Problema\n",
        "\n",
        "O acompanhamento das notícias econômicas é essencial para o mundo dos negócios e investimentos.O processo normalmente involve a coleta manual das informações de múltiplas fontes, e além disso, a velocidade com que as notícias são publicadas e atualizadas torna desafiador manter-se atualizado com os eventos econômicos em tempo real.\n",
        "\n",
        "Visando contornar esse problema, neste projeto utilizamos técnicas de webscrapping para extrair notícias econômicas. A fonte escolhida foi o site O Globo, dada a sua relevância para o mercado nacional e a forma em que o site é estruturado, facilitando assim a extração e coleta dos dados.\n",
        "\n",
        "Ao automatizar este processo podemos economizar tempo e esforço, garantindo ao mesmo tempo que estamos obtendo informações atualizadas e relevantes sobre os desenvolvimentos econômicos mais recentes.\n"
      ],
      "metadata": {
        "id": "1v7pxvM_AFQb"
      }
    },
    {
      "cell_type": "markdown",
      "source": [
        "## Extração dos dados\n",
        "\n",
        "\n"
      ],
      "metadata": {
        "id": "B53hir6dCIkc"
      }
    },
    {
      "cell_type": "code",
      "execution_count": null,
      "metadata": {
        "id": "XhDyZ41sY6uy"
      },
      "outputs": [],
      "source": [
        "# importando as bibliotecas\n",
        "import requests\n",
        "from bs4 import BeautifulSoup"
      ]
    },
    {
      "cell_type": "code",
      "source": [
        "def get_news(url):\n",
        "  page = requests.get(url)\n",
        "  soup = BeautifulSoup(page.text,'html.parser')\n",
        "  noticias = soup.find_all('a')\n",
        "  tgt_class1 = 'post_title'\n",
        "  tgt_class2 = 'post-multicontent__link--title__text'\n",
        "\n",
        "  news_dict = {}\n",
        "  for noticia in noticias:\n",
        "    if (noticia.h2 != None) and (noticia.h2.get('class') != None):\n",
        "      if tgt_class1 in noticia.h2.get('class'):\n",
        "        news_dict[noticia.h2.text] = noticia.get('href')\n",
        "      if tgt_class2 in noticia.h2.get('class'):\n",
        "        news_dict[noticia.h2.text] = noticia.get('href')\n",
        "  return news_dict"
      ],
      "metadata": {
        "id": "ulRLUCsn_TXg"
      },
      "execution_count": null,
      "outputs": []
    },
    {
      "cell_type": "code",
      "source": [
        "news = get_news('https://www.globo.com/')"
      ],
      "metadata": {
        "id": "e0lfnM1LUqRK"
      },
      "execution_count": null,
      "outputs": []
    },
    {
      "cell_type": "code",
      "source": [
        "len(news)"
      ],
      "metadata": {
        "colab": {
          "base_uri": "https://localhost:8080/"
        },
        "id": "H7d0gsRXXrVi",
        "outputId": "bcd31f08-0d4b-47bd-ee24-50e8eb60d1ba"
      },
      "execution_count": null,
      "outputs": [
        {
          "output_type": "execute_result",
          "data": {
            "text/plain": [
              "0"
            ]
          },
          "metadata": {},
          "execution_count": 4
        }
      ]
    },
    {
      "cell_type": "code",
      "source": [
        "url = 'https://www.globo.com/economia'\n",
        "page = requests.get(url)\n",
        "soup = BeautifulSoup(page.text,'html.parser')\n",
        "noticias = soup.find_all('a')\n",
        "tgt_class1 = 'post_title'\n",
        "tgt_class2 = 'post-multicontent__link--title__text'\n"
      ],
      "metadata": {
        "id": "poMtQA0xZp1N"
      },
      "execution_count": null,
      "outputs": []
    },
    {
      "cell_type": "code",
      "source": [
        "len(noticias)"
      ],
      "metadata": {
        "colab": {
          "base_uri": "https://localhost:8080/"
        },
        "id": "N74Ott0eZ1hB",
        "outputId": "6e92248b-2a32-463a-f946-4b9b87838305"
      },
      "execution_count": null,
      "outputs": [
        {
          "output_type": "execute_result",
          "data": {
            "text/plain": [
              "679"
            ]
          },
          "metadata": {},
          "execution_count": 10
        }
      ]
    },
    {
      "cell_type": "code",
      "source": [
        "print(noticias[0])\n"
      ],
      "metadata": {
        "colab": {
          "base_uri": "https://localhost:8080/"
        },
        "id": "_p7nVjaT69p6",
        "outputId": "b76e3f34-e792-4ff3-cf6c-b4451fa2fe89"
      },
      "execution_count": null,
      "outputs": [
        {
          "output_type": "stream",
          "name": "stdout",
          "text": [
            "<a class=\"logo-area\" href=\"https://g1.globo.com/\"> <div class=\"logo\"><svg fill=\"none\" viewbox=\"0 0 42 42\" xmlns=\"http://www.w3.org/2000/svg\"><path d=\"M30.167 4.866L38.12.134C38.99-.295 40 .345 40 1.512V30.31c0 .54-.585 1.133-1.307 1.133h-3.655a1.315 1.315 0 01-1.306-1.323V9.352l-2.444 1.458c-.868.426-1.855-.237-1.855-1.213V6.055c0-.507.285-.968.734-1.19zM14.11 25.831c-3.246 0-5.977-2.607-5.977-6.415 0-3.86 2.73-6.416 5.977-6.416 3.246 0 5.925 2.555 5.925 6.416 0 3.808-2.68 6.415-5.925 6.415zm7.368-18.463c-.773 0-1.236.469-1.236 1.251v1.356c-1.392-1.722-3.968-3.026-6.545-3.026C7.411 6.95 2 12.374 2 19.467c0 7.094 5.1 11.997 11.542 11.997a8.67 8.67 0 006.389-2.764c-.05 4.954-2.627 7.198-7.059 7.198-2.37 0-4.586-.731-7.161-2.4-.67-.469-1.443-.313-1.804.418L2.36 36.993c-.36.73-.257 1.408.464 1.877C6.02 40.956 9.782 42 13.028 42c8.502 0 13.19-4.643 13.19-15.335V8.62c0-.782-.463-1.251-1.236-1.251h-3.504z\" fill=\"#fff\"></path></svg></div> </a>\n"
          ]
        }
      ]
    },
    {
      "cell_type": "code",
      "source": [],
      "metadata": {
        "id": "6iBI9mLr7_Jw"
      },
      "execution_count": null,
      "outputs": []
    }
  ],
  "metadata": {
    "language_info": {
      "name": "python"
    },
    "colab": {
      "provenance": [],
      "toc_visible": true,
      "include_colab_link": true
    },
    "kernelspec": {
      "name": "python3",
      "display_name": "Python 3"
    }
  },
  "nbformat": 4,
  "nbformat_minor": 0
}